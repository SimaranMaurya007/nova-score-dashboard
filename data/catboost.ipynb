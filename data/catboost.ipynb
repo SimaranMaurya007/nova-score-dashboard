{
  "cells": [
    {
      "cell_type": "code",
      "execution_count": 2,
      "metadata": {
        "colab": {
          "base_uri": "https://localhost:8080/"
        },
        "id": "j9gWNTlsCwWk",
        "outputId": "475a9e21-0b7a-42b3-901d-61e633261cd4"
      },
      "outputs": [
        {
          "output_type": "stream",
          "name": "stdout",
          "text": [
            "Collecting catboost\n",
            "  Downloading catboost-1.2.8-cp312-cp312-manylinux2014_x86_64.whl.metadata (1.2 kB)\n",
            "Requirement already satisfied: graphviz in /usr/local/lib/python3.12/dist-packages (from catboost) (0.21)\n",
            "Requirement already satisfied: matplotlib in /usr/local/lib/python3.12/dist-packages (from catboost) (3.10.0)\n",
            "Requirement already satisfied: numpy<3.0,>=1.16.0 in /usr/local/lib/python3.12/dist-packages (from catboost) (2.0.2)\n",
            "Requirement already satisfied: pandas>=0.24 in /usr/local/lib/python3.12/dist-packages (from catboost) (2.2.2)\n",
            "Requirement already satisfied: scipy in /usr/local/lib/python3.12/dist-packages (from catboost) (1.16.1)\n",
            "Requirement already satisfied: plotly in /usr/local/lib/python3.12/dist-packages (from catboost) (5.24.1)\n",
            "Requirement already satisfied: six in /usr/local/lib/python3.12/dist-packages (from catboost) (1.17.0)\n",
            "Requirement already satisfied: python-dateutil>=2.8.2 in /usr/local/lib/python3.12/dist-packages (from pandas>=0.24->catboost) (2.9.0.post0)\n",
            "Requirement already satisfied: pytz>=2020.1 in /usr/local/lib/python3.12/dist-packages (from pandas>=0.24->catboost) (2025.2)\n",
            "Requirement already satisfied: tzdata>=2022.7 in /usr/local/lib/python3.12/dist-packages (from pandas>=0.24->catboost) (2025.2)\n",
            "Requirement already satisfied: contourpy>=1.0.1 in /usr/local/lib/python3.12/dist-packages (from matplotlib->catboost) (1.3.3)\n",
            "Requirement already satisfied: cycler>=0.10 in /usr/local/lib/python3.12/dist-packages (from matplotlib->catboost) (0.12.1)\n",
            "Requirement already satisfied: fonttools>=4.22.0 in /usr/local/lib/python3.12/dist-packages (from matplotlib->catboost) (4.59.2)\n",
            "Requirement already satisfied: kiwisolver>=1.3.1 in /usr/local/lib/python3.12/dist-packages (from matplotlib->catboost) (1.4.9)\n",
            "Requirement already satisfied: packaging>=20.0 in /usr/local/lib/python3.12/dist-packages (from matplotlib->catboost) (25.0)\n",
            "Requirement already satisfied: pillow>=8 in /usr/local/lib/python3.12/dist-packages (from matplotlib->catboost) (11.3.0)\n",
            "Requirement already satisfied: pyparsing>=2.3.1 in /usr/local/lib/python3.12/dist-packages (from matplotlib->catboost) (3.2.3)\n",
            "Requirement already satisfied: tenacity>=6.2.0 in /usr/local/lib/python3.12/dist-packages (from plotly->catboost) (8.5.0)\n",
            "Downloading catboost-1.2.8-cp312-cp312-manylinux2014_x86_64.whl (99.2 MB)\n",
            "\u001b[2K   \u001b[90m━━━━━━━━━━━━━━━━━━━━━━━━━━━━━━━━━━━━━━━━\u001b[0m \u001b[32m99.2/99.2 MB\u001b[0m \u001b[31m9.9 MB/s\u001b[0m eta \u001b[36m0:00:00\u001b[0m\n",
            "\u001b[?25hInstalling collected packages: catboost\n",
            "Successfully installed catboost-1.2.8\n"
          ]
        }
      ],
      "source": [
        "!pip install catboost\n"
      ]
    },
    {
      "cell_type": "code",
      "execution_count": 3,
      "metadata": {
        "colab": {
          "base_uri": "https://localhost:8080/"
        },
        "id": "rSMeOo6lDCna",
        "outputId": "d1b7ebe2-cbcc-4344-a6de-fc83c1a5f7ef"
      },
      "outputs": [
        {
          "output_type": "stream",
          "name": "stdout",
          "text": [
            "Requirement already satisfied: scikit-learn in /usr/local/lib/python3.12/dist-packages (1.6.1)\n",
            "Collecting scikit-learn\n",
            "  Downloading scikit_learn-1.7.1-cp312-cp312-manylinux2014_x86_64.manylinux_2_17_x86_64.whl.metadata (11 kB)\n",
            "Requirement already satisfied: numpy>=1.22.0 in /usr/local/lib/python3.12/dist-packages (from scikit-learn) (2.0.2)\n",
            "Requirement already satisfied: scipy>=1.8.0 in /usr/local/lib/python3.12/dist-packages (from scikit-learn) (1.16.1)\n",
            "Requirement already satisfied: joblib>=1.2.0 in /usr/local/lib/python3.12/dist-packages (from scikit-learn) (1.5.2)\n",
            "Requirement already satisfied: threadpoolctl>=3.1.0 in /usr/local/lib/python3.12/dist-packages (from scikit-learn) (3.6.0)\n",
            "Downloading scikit_learn-1.7.1-cp312-cp312-manylinux2014_x86_64.manylinux_2_17_x86_64.whl (9.5 MB)\n",
            "\u001b[2K   \u001b[90m━━━━━━━━━━━━━━━━━━━━━━━━━━━━━━━━━━━━━━━━\u001b[0m \u001b[32m9.5/9.5 MB\u001b[0m \u001b[31m50.2 MB/s\u001b[0m eta \u001b[36m0:00:00\u001b[0m\n",
            "\u001b[?25hInstalling collected packages: scikit-learn\n",
            "  Attempting uninstall: scikit-learn\n",
            "    Found existing installation: scikit-learn 1.6.1\n",
            "    Uninstalling scikit-learn-1.6.1:\n",
            "      Successfully uninstalled scikit-learn-1.6.1\n",
            "Successfully installed scikit-learn-1.7.1\n"
          ]
        }
      ],
      "source": [
        "!pip install --upgrade scikit-learn\n"
      ]
    },
    {
      "cell_type": "code",
      "execution_count": null,
      "metadata": {
        "colab": {
          "base_uri": "https://localhost:8080/"
        },
        "id": "RfhBuVQvCckD",
        "outputId": "7e4b8e31-d875-42b0-e0a3-f9fde44f8cbf"
      },
      "outputs": [
        {
          "name": "stdout",
          "output_type": "stream",
          "text": [
            "0:\tlearn: 9.9903904\ttest: 9.5968824\tbest: 9.5968824 (0)\ttotal: 55.7ms\tremaining: 55.6s\n",
            "100:\tlearn: 6.7282707\ttest: 6.4923385\tbest: 6.4923385 (100)\ttotal: 2.64s\tremaining: 23.5s\n",
            "200:\tlearn: 6.2720304\ttest: 6.1459888\tbest: 6.1459888 (200)\ttotal: 4.14s\tremaining: 16.5s\n",
            "300:\tlearn: 5.9089207\ttest: 5.8356308\tbest: 5.8356308 (300)\ttotal: 5.75s\tremaining: 13.3s\n",
            "400:\tlearn: 5.6207094\ttest: 5.6099045\tbest: 5.6099045 (400)\ttotal: 7.85s\tremaining: 11.7s\n",
            "500:\tlearn: 5.4128546\ttest: 5.4510939\tbest: 5.4510939 (500)\ttotal: 10s\tremaining: 9.98s\n",
            "600:\tlearn: 5.2383616\ttest: 5.3300259\tbest: 5.3300259 (600)\ttotal: 11.7s\tremaining: 7.75s\n",
            "700:\tlearn: 5.0598983\ttest: 5.2145167\tbest: 5.2143642 (699)\ttotal: 14.8s\tremaining: 6.31s\n",
            "800:\tlearn: 4.9194596\ttest: 5.1341923\tbest: 5.1341923 (800)\ttotal: 16.4s\tremaining: 4.08s\n",
            "900:\tlearn: 4.8000191\ttest: 5.0709484\tbest: 5.0709484 (900)\ttotal: 18.1s\tremaining: 1.99s\n",
            "999:\tlearn: 4.6739364\ttest: 4.9860918\tbest: 4.9860044 (998)\ttotal: 19.8s\tremaining: 0us\n",
            "\n",
            "bestTest = 4.986004376\n",
            "bestIteration = 998\n",
            "\n",
            "Shrink model to first 999 iterations.\n",
            "RMSE on test set: 4.9860\n",
            "R2 Score on test set: 0.7423\n",
            "\n",
            "Feature Importances:\n",
            "                 feature  importance\n",
            "5               earnings   37.151070\n",
            "0                    age   22.069363\n",
            "2                 region    9.215313\n",
            "4            worker_type    8.547033\n",
            "3           partner_tier    6.137498\n",
            "1                 gender    4.374689\n",
            "8          avg_job_value    4.173424\n",
            "12       customer_rating    1.726240\n",
            "6         jobs_completed    1.265185\n",
            "7    repeat_client_share    1.216246\n",
            "16              gap_days    1.052680\n",
            "15     transaction_count    0.759535\n",
            "11            tips_share    0.718201\n",
            "14  peak_hour_jobs_share    0.567845\n",
            "9           hours_worked    0.507568\n",
            "13     cancellation_rate    0.477937\n",
            "10         dispute_count    0.040173\n"
          ]
        }
      ],
      "source": [
        "# ---------------------------\n",
        "# ML Model: Predict Nova Score\n",
        "# ---------------------------\n",
        "\n",
        "import pandas as pd\n",
        "from catboost import CatBoostRegressor\n",
        "from sklearn.model_selection import train_test_split\n",
        "from sklearn.metrics import mean_squared_error, r2_score\n",
        "from sklearn.metrics import mean_squared_error\n",
        "import numpy as np\n",
        "\n",
        "# Load dataset\n",
        "df = pd.read_csv(\"/content/final_nova_dataset.csv\")\n",
        "\n",
        "# Target\n",
        "target = 'nova_score'\n",
        "\n",
        "# Features to drop (ID/time and previous score to avoid leakage)\n",
        "drop_cols = ['worker_id', 'week', 'nova_prev_score', target]\n",
        "X = df.drop(columns=drop_cols)\n",
        "y = df[target]\n",
        "\n",
        "# Identify categorical features\n",
        "categorical_features = ['gender', 'region', 'partner_tier', 'worker_type']\n",
        "\n",
        "# Train-test split\n",
        "X_train, X_test, y_train, y_test = train_test_split(\n",
        "    X, y, test_size=0.2, random_state=42\n",
        ")\n",
        "\n",
        "# Initialize CatBoost Regressor\n",
        "model = CatBoostRegressor(\n",
        "    iterations=1000,\n",
        "    learning_rate=0.05,\n",
        "    depth=6,\n",
        "    eval_metric='RMSE',\n",
        "    random_seed=42,\n",
        "    early_stopping_rounds=50,\n",
        "    verbose=100\n",
        ")\n",
        "\n",
        "# Train the model\n",
        "model.fit(X_train, y_train, cat_features=categorical_features, eval_set=(X_test, y_test))\n",
        "\n",
        "# Predict\n",
        "y_pred = model.predict(X_test)\n",
        "\n",
        "# Evaluate\n",
        "# rmse = mean_squared_error(y_test, y_pred, squared=False)\n",
        "r2 = r2_score(y_test, y_pred)\n",
        "\n",
        "rmse = np.sqrt(mean_squared_error(y_test, y_pred))\n",
        "print(f\"RMSE on test set: {rmse:.4f}\")\n",
        "print(f\"R2 Score on test set: {r2:.4f}\")\n",
        "\n",
        "# Feature importance\n",
        "importance_df = pd.DataFrame({\n",
        "    'feature': X_train.columns,\n",
        "    'importance': model.get_feature_importance()\n",
        "}).sort_values(by='importance', ascending=False)\n",
        "\n",
        "print(\"\\nFeature Importances:\")\n",
        "print(importance_df)\n"
      ]
    },
    {
      "cell_type": "code",
      "execution_count": 7,
      "metadata": {
        "colab": {
          "base_uri": "https://localhost:8080/"
        },
        "id": "ExTiVK_vU2we",
        "outputId": "7677815b-6989-4918-9db0-5477b583d1b7"
      },
      "outputs": [
        {
          "output_type": "stream",
          "name": "stdout",
          "text": [
            "0:\tlearn: 10.8952758\ttest: 10.8119387\tbest: 10.8119387 (0)\ttotal: 45.1ms\tremaining: 6m 45s\n",
            "100:\tlearn: 7.0594511\ttest: 7.1125722\tbest: 7.1125722 (100)\ttotal: 2.78s\tremaining: 4m 5s\n",
            "200:\tlearn: 6.6431287\ttest: 6.8039031\tbest: 6.8039031 (200)\ttotal: 8.68s\tremaining: 6m 19s\n",
            "300:\tlearn: 6.2866164\ttest: 6.5221365\tbest: 6.5221365 (300)\ttotal: 14.7s\tremaining: 7m 4s\n",
            "400:\tlearn: 5.8869018\ttest: 6.1937810\tbest: 6.1937810 (400)\ttotal: 18.5s\tremaining: 6m 37s\n",
            "500:\tlearn: 5.6222741\ttest: 5.9766932\tbest: 5.9766932 (500)\ttotal: 22.2s\tremaining: 6m 16s\n",
            "600:\tlearn: 5.4230775\ttest: 5.8200286\tbest: 5.8200286 (600)\ttotal: 24.6s\tremaining: 5m 43s\n",
            "700:\tlearn: 5.2544233\ttest: 5.6890103\tbest: 5.6890103 (700)\ttotal: 26.9s\tremaining: 5m 18s\n",
            "800:\tlearn: 5.0652730\ttest: 5.5327995\tbest: 5.5327995 (800)\ttotal: 29.2s\tremaining: 4m 59s\n",
            "900:\tlearn: 4.9131747\ttest: 5.4234353\tbest: 5.4233448 (899)\ttotal: 31.6s\tremaining: 4m 44s\n",
            "1000:\tlearn: 4.7640326\ttest: 5.3137950\tbest: 5.3137950 (1000)\ttotal: 35.3s\tremaining: 4m 42s\n",
            "1100:\tlearn: 4.6509411\ttest: 5.2431462\tbest: 5.2431462 (1100)\ttotal: 37.6s\tremaining: 4m 29s\n",
            "1200:\tlearn: 4.5260203\ttest: 5.1475850\tbest: 5.1475850 (1200)\ttotal: 39.9s\tremaining: 4m 19s\n",
            "1300:\tlearn: 4.4294786\ttest: 5.0873815\tbest: 5.0873815 (1300)\ttotal: 42.2s\tremaining: 4m 9s\n",
            "1400:\tlearn: 4.3342875\ttest: 5.0289857\tbest: 5.0289857 (1400)\ttotal: 44.5s\tremaining: 4m 1s\n",
            "1500:\tlearn: 4.2444011\ttest: 4.9738628\tbest: 4.9738628 (1500)\ttotal: 48.3s\tremaining: 4m 1s\n",
            "1600:\tlearn: 4.1701347\ttest: 4.9430004\tbest: 4.9429408 (1599)\ttotal: 50.6s\tremaining: 3m 53s\n",
            "1700:\tlearn: 4.0976090\ttest: 4.9074875\tbest: 4.9072477 (1698)\ttotal: 53s\tremaining: 3m 47s\n",
            "1800:\tlearn: 4.0285765\ttest: 4.8731881\tbest: 4.8731881 (1800)\ttotal: 55.3s\tremaining: 3m 41s\n",
            "1900:\tlearn: 3.9643361\ttest: 4.8496160\tbest: 4.8496160 (1900)\ttotal: 57.7s\tremaining: 3m 35s\n",
            "2000:\tlearn: 3.9020483\ttest: 4.8207670\tbest: 4.8205616 (1998)\ttotal: 1m 1s\tremaining: 3m 34s\n",
            "2100:\tlearn: 3.8437382\ttest: 4.8044494\tbest: 4.8044494 (2100)\ttotal: 1m 3s\tremaining: 3m 29s\n",
            "2200:\tlearn: 3.7911221\ttest: 4.7908168\tbest: 4.7904913 (2193)\ttotal: 1m 6s\tremaining: 3m 24s\n",
            "2300:\tlearn: 3.7396760\ttest: 4.7785410\tbest: 4.7784770 (2292)\ttotal: 1m 8s\tremaining: 3m 19s\n",
            "2400:\tlearn: 3.6864515\ttest: 4.7606034\tbest: 4.7606034 (2400)\ttotal: 1m 11s\tremaining: 3m 15s\n",
            "2500:\tlearn: 3.6357571\ttest: 4.7481052\tbest: 4.7481052 (2500)\ttotal: 1m 14s\tremaining: 3m 13s\n",
            "2600:\tlearn: 3.5869708\ttest: 4.7344768\tbest: 4.7343920 (2596)\ttotal: 1m 17s\tremaining: 3m 9s\n",
            "2700:\tlearn: 3.5391013\ttest: 4.7287437\tbest: 4.7287437 (2700)\ttotal: 1m 19s\tremaining: 3m 5s\n",
            "2800:\tlearn: 3.4947365\ttest: 4.7194909\tbest: 4.7194909 (2800)\ttotal: 1m 21s\tremaining: 3m\n",
            "2900:\tlearn: 3.4539597\ttest: 4.7138343\tbest: 4.7138343 (2900)\ttotal: 1m 25s\tremaining: 2m 59s\n",
            "3000:\tlearn: 3.4103793\ttest: 4.7047330\tbest: 4.7047330 (3000)\ttotal: 1m 27s\tremaining: 2m 55s\n",
            "3100:\tlearn: 3.3650854\ttest: 4.6954230\tbest: 4.6950027 (3095)\ttotal: 1m 30s\tremaining: 2m 51s\n",
            "3200:\tlearn: 3.3245529\ttest: 4.6930937\tbest: 4.6930783 (3199)\ttotal: 1m 32s\tremaining: 2m 48s\n",
            "3300:\tlearn: 3.2851624\ttest: 4.6902037\tbest: 4.6902037 (3300)\ttotal: 1m 35s\tremaining: 2m 44s\n",
            "3400:\tlearn: 3.2456297\ttest: 4.6819961\tbest: 4.6819961 (3400)\ttotal: 1m 39s\tremaining: 2m 43s\n",
            "3500:\tlearn: 3.2065648\ttest: 4.6773717\tbest: 4.6773292 (3494)\ttotal: 1m 42s\tremaining: 2m 40s\n",
            "3600:\tlearn: 3.1739397\ttest: 4.6754950\tbest: 4.6751274 (3573)\ttotal: 1m 44s\tremaining: 2m 37s\n",
            "3700:\tlearn: 3.1339652\ttest: 4.6690372\tbest: 4.6688027 (3698)\ttotal: 1m 47s\tremaining: 2m 33s\n",
            "3800:\tlearn: 3.0977162\ttest: 4.6633671\tbest: 4.6627652 (3787)\ttotal: 1m 50s\tremaining: 2m 31s\n",
            "3900:\tlearn: 3.0621438\ttest: 4.6588621\tbest: 4.6588423 (3899)\ttotal: 1m 53s\tremaining: 2m 28s\n",
            "4000:\tlearn: 3.0285124\ttest: 4.6561303\tbest: 4.6557239 (3983)\ttotal: 1m 55s\tremaining: 2m 24s\n",
            "4100:\tlearn: 2.9941556\ttest: 4.6491324\tbest: 4.6491242 (4099)\ttotal: 1m 58s\tremaining: 2m 21s\n",
            "4200:\tlearn: 2.9603595\ttest: 4.6433198\tbest: 4.6432164 (4193)\ttotal: 2m\tremaining: 2m 17s\n",
            "4300:\tlearn: 2.9275546\ttest: 4.6399555\tbest: 4.6399555 (4300)\ttotal: 2m 4s\tremaining: 2m 16s\n",
            "4400:\tlearn: 2.8944560\ttest: 4.6381924\tbest: 4.6380514 (4392)\ttotal: 2m 6s\tremaining: 2m 12s\n",
            "4500:\tlearn: 2.8620413\ttest: 4.6338369\tbest: 4.6336252 (4496)\ttotal: 2m 9s\tremaining: 2m 9s\n",
            "4600:\tlearn: 2.8318741\ttest: 4.6277605\tbest: 4.6275424 (4592)\ttotal: 2m 11s\tremaining: 2m 5s\n",
            "4700:\tlearn: 2.8019898\ttest: 4.6267845\tbest: 4.6255597 (4647)\ttotal: 2m 14s\tremaining: 2m 2s\n",
            "4800:\tlearn: 2.7731774\ttest: 4.6246303\tbest: 4.6241484 (4784)\ttotal: 2m 17s\tremaining: 2m\n",
            "4900:\tlearn: 2.7443283\ttest: 4.6239030\tbest: 4.6233770 (4878)\ttotal: 2m 20s\tremaining: 1m 57s\n",
            "5000:\tlearn: 2.7144418\ttest: 4.6220494\tbest: 4.6216527 (4931)\ttotal: 2m 22s\tremaining: 1m 54s\n",
            "5100:\tlearn: 2.6854523\ttest: 4.6195315\tbest: 4.6195315 (5100)\ttotal: 2m 25s\tremaining: 1m 51s\n",
            "5200:\tlearn: 2.6585819\ttest: 4.6166875\tbest: 4.6165452 (5170)\ttotal: 2m 29s\tremaining: 1m 48s\n",
            "5300:\tlearn: 2.6319597\ttest: 4.6158450\tbest: 4.6158450 (5300)\ttotal: 2m 31s\tremaining: 1m 45s\n",
            "5400:\tlearn: 2.6058698\ttest: 4.6149058\tbest: 4.6148343 (5390)\ttotal: 2m 34s\tremaining: 1m 42s\n",
            "5500:\tlearn: 2.5782879\ttest: 4.6125680\tbest: 4.6124761 (5482)\ttotal: 2m 36s\tremaining: 1m 39s\n",
            "5600:\tlearn: 2.5518387\ttest: 4.6100111\tbest: 4.6100111 (5600)\ttotal: 2m 38s\tremaining: 1m 36s\n",
            "5700:\tlearn: 2.5246489\ttest: 4.6086286\tbest: 4.6080848 (5664)\ttotal: 2m 42s\tremaining: 1m 34s\n",
            "5800:\tlearn: 2.5002452\ttest: 4.6076956\tbest: 4.6075744 (5777)\ttotal: 2m 45s\tremaining: 1m 31s\n",
            "5900:\tlearn: 2.4761864\ttest: 4.6049142\tbest: 4.6048825 (5898)\ttotal: 2m 47s\tremaining: 1m 28s\n",
            "6000:\tlearn: 2.4509371\ttest: 4.6037175\tbest: 4.6034769 (5987)\ttotal: 2m 50s\tremaining: 1m 24s\n",
            "6100:\tlearn: 2.4263402\ttest: 4.6034654\tbest: 4.6031292 (6095)\ttotal: 2m 53s\tremaining: 1m 22s\n",
            "6200:\tlearn: 2.4029731\ttest: 4.6034176\tbest: 4.6031292 (6095)\ttotal: 2m 56s\tremaining: 1m 19s\n",
            "6300:\tlearn: 2.3800346\ttest: 4.6041048\tbest: 4.6028412 (6223)\ttotal: 2m 58s\tremaining: 1m 16s\n",
            "6400:\tlearn: 2.3571502\ttest: 4.6030725\tbest: 4.6027687 (6388)\ttotal: 3m 1s\tremaining: 1m 13s\n",
            "6500:\tlearn: 2.3350632\ttest: 4.6033643\tbest: 4.6027687 (6388)\ttotal: 3m 3s\tremaining: 1m 10s\n",
            "6600:\tlearn: 2.3128443\ttest: 4.6025210\tbest: 4.6020994 (6583)\ttotal: 3m 7s\tremaining: 1m 8s\n",
            "6700:\tlearn: 2.2910217\ttest: 4.6024192\tbest: 4.6020994 (6583)\ttotal: 3m 10s\tremaining: 1m 5s\n",
            "6800:\tlearn: 2.2710801\ttest: 4.6017600\tbest: 4.6017295 (6746)\ttotal: 3m 12s\tremaining: 1m 2s\n",
            "6900:\tlearn: 2.2508442\ttest: 4.6008372\tbest: 4.6008372 (6900)\ttotal: 3m 14s\tremaining: 59.3s\n",
            "7000:\tlearn: 2.2293297\ttest: 4.6005995\tbest: 4.5999159 (6970)\ttotal: 3m 17s\tremaining: 56.4s\n",
            "7100:\tlearn: 2.2096605\ttest: 4.6000724\tbest: 4.5999010 (7096)\ttotal: 3m 21s\tremaining: 53.8s\n",
            "7200:\tlearn: 2.1884653\ttest: 4.5995416\tbest: 4.5992761 (7196)\ttotal: 3m 23s\tremaining: 50.9s\n",
            "7300:\tlearn: 2.1680368\ttest: 4.5983704\tbest: 4.5978829 (7260)\ttotal: 3m 26s\tremaining: 48s\n",
            "7400:\tlearn: 2.1481001\ttest: 4.5975625\tbest: 4.5974581 (7360)\ttotal: 3m 28s\tremaining: 45.1s\n",
            "7500:\tlearn: 2.1287135\ttest: 4.5968609\tbest: 4.5962449 (7471)\ttotal: 3m 32s\tremaining: 42.5s\n",
            "7600:\tlearn: 2.1079664\ttest: 4.5957627\tbest: 4.5952771 (7583)\ttotal: 3m 34s\tremaining: 39.6s\n",
            "7700:\tlearn: 2.0903077\ttest: 4.5967587\tbest: 4.5952771 (7583)\ttotal: 3m 37s\tremaining: 36.7s\n",
            "Stopped by overfitting detector  (200 iterations wait)\n",
            "\n",
            "bestTest = 4.595277128\n",
            "bestIteration = 7583\n",
            "\n",
            "Shrink model to first 7584 iterations.\n",
            "RMSE: 4.5953, R2: 0.8245\n",
            "\n",
            "Feature Importances:\n",
            "                       feature  importance\n",
            "1               earnings_norm   24.538548\n",
            "0                    age_norm   20.581660\n",
            "4          avg_job_value_norm    9.969547\n",
            "16                worker_type    7.619028\n",
            "15               partner_tier    5.523826\n",
            "13                     gender    4.897433\n",
            "14                     region    4.701611\n",
            "8        customer_rating_norm    3.246023\n",
            "3    repeat_client_share_norm    2.570556\n",
            "2         jobs_completed_norm    2.516741\n",
            "12              gap_days_norm    2.351214\n",
            "9      cancellation_rate_norm    2.208257\n",
            "6          dispute_count_norm    2.007922\n",
            "10  peak_hour_jobs_share_norm    1.966035\n",
            "7             tips_share_norm    1.954223\n",
            "11     transaction_count_norm    1.708029\n",
            "5           hours_worked_norm    1.639348\n",
            "\n",
            "Mean predicted Nova Score by Gender:\n",
            "             pred\n",
            "gender           \n",
            "F       71.866387\n",
            "M       72.233543\n",
            "Other   75.495464\n",
            "\n",
            "Mean predicted Nova Score by Region:\n",
            "             pred\n",
            "region           \n",
            "East    72.218252\n",
            "North   72.044635\n",
            "South   72.000188\n",
            "West    72.119462\n"
          ]
        }
      ],
      "source": [
        "# ----------------- Imports -----------------\n",
        "import pandas as pd\n",
        "import numpy as np\n",
        "from catboost import CatBoostRegressor, Pool\n",
        "from sklearn.model_selection import train_test_split, RandomizedSearchCV\n",
        "from sklearn.metrics import mean_squared_error, r2_score\n",
        "\n",
        "# ----------------- Load Dataset -----------------\n",
        "df = pd.read_csv(\"/content/final_nova_dataset_65_35.csv\")\n",
        "\n",
        "# ----------------- Sensitive & Numeric Features -----------------\n",
        "sensitive_features = ['gender', 'region']\n",
        "numeric_features = ['age','earnings','jobs_completed','repeat_client_share','avg_job_value',\n",
        "                    'hours_worked','dispute_count','tips_share','customer_rating',\n",
        "                    'cancellation_rate','peak_hour_jobs_share','transaction_count','gap_days']\n",
        "\n",
        "leakage_cols = ['worker_id', 'nova_score', 'nova_prev_score', 'week']\n",
        "df_model = df.drop(columns=[c for c in leakage_cols if c in df.columns])\n",
        "\n",
        "# ----------------- Group-wise Normalization -----------------\n",
        "df_norm = df.copy()\n",
        "df_norm['group'] = df_norm[sensitive_features].agg('_'.join, axis=1)\n",
        "\n",
        "for feature in numeric_features:\n",
        "    df_norm[feature + '_norm'] = df_norm.groupby('group')[feature].transform(\n",
        "        lambda x: (x - x.mean()) / (x.std() + 1e-8)\n",
        "    )\n",
        "\n",
        "# ----------------- Features & Target -----------------\n",
        "norm_features = [f + '_norm' for f in numeric_features] + ['gender','region','partner_tier','worker_type']\n",
        "X = df_norm[norm_features]\n",
        "y = df_norm['nova_score']\n",
        "cat_features = ['gender','region','partner_tier','worker_type']\n",
        "\n",
        "# ----------------- Train-Test Split -----------------\n",
        "X_train, X_test, y_train, y_test = train_test_split(X, y, test_size=0.2, random_state=42)\n",
        "\n",
        "# ----------------- Sample Weights for Bias Mitigation -----------------\n",
        "w_train = np.ones(len(X_train))\n",
        "w_train[(X_train['gender']=='Other')] = 2.0\n",
        "w_train[(X_train['region']=='West')] *= 1.5\n",
        "\n",
        "# ----------------- CatBoost Model -----------------\n",
        "model = CatBoostRegressor(\n",
        "    iterations=9000,\n",
        "    learning_rate=0.03,  # lower LR for stability\n",
        "    depth=7,\n",
        "    eval_metric='RMSE',\n",
        "    random_seed=42,\n",
        "    od_type='Iter',      # use early stopping\n",
        "    od_wait=200,\n",
        "    verbose=100\n",
        ")\n",
        "\n",
        "# ----------------- Train Model -----------------\n",
        "model.fit(\n",
        "    X_train, y_train,\n",
        "    cat_features=cat_features,\n",
        "    sample_weight=w_train,\n",
        "    eval_set=(X_test, y_test)\n",
        ")\n",
        "\n",
        "# ----------------- Evaluate -----------------\n",
        "y_pred = model.predict(X_test)\n",
        "rmse = np.sqrt(mean_squared_error(y_test, y_pred))\n",
        "r2 = r2_score(y_test, y_pred)\n",
        "print(f\"RMSE: {rmse:.4f}, R2: {r2:.4f}\")\n",
        "\n",
        "# ----------------- Feature Importances -----------------\n",
        "feat_imp = pd.DataFrame({\n",
        "    'feature': model.feature_names_,\n",
        "    'importance': model.get_feature_importance()\n",
        "}).sort_values('importance', ascending=False)\n",
        "print(\"\\nFeature Importances:\\n\", feat_imp)\n",
        "\n",
        "# ----------------- Fairness Check -----------------\n",
        "print(\"\\nMean predicted Nova Score by Gender:\")\n",
        "print(pd.DataFrame({'gender': X_test['gender'], 'pred': y_pred}).groupby('gender').mean())\n",
        "\n",
        "print(\"\\nMean predicted Nova Score by Region:\")\n",
        "print(pd.DataFrame({'region': X_test['region'], 'pred': y_pred}).groupby('region').mean())\n"
      ]
    },
    {
      "cell_type": "code",
      "source": [
        "import matplotlib.pyplot as plt\n",
        "\n",
        "# ----------------- Feature Importance (Overall) -----------------\n",
        "feat_imp = pd.DataFrame({\n",
        "    'feature': model.feature_names_,\n",
        "    'importance': model.get_feature_importance()\n",
        "}).sort_values('importance', ascending=False)\n",
        "\n",
        "# Plot\n",
        "plt.figure(figsize=(10, 6))\n",
        "plt.barh(feat_imp['feature'], feat_imp['importance'], color=\"skyblue\")\n",
        "plt.xlabel(\"Importance\")\n",
        "plt.ylabel(\"Features\")\n",
        "plt.title(\"CatBoost Feature Importance\")\n",
        "plt.gca().invert_yaxis()  # Highest importance on top\n",
        "plt.show()\n"
      ],
      "metadata": {
        "id": "Ve7TKMcdQVpr",
        "outputId": "46abda21-d0a3-4185-b582-8dd60e944f25",
        "colab": {
          "base_uri": "https://localhost:8080/",
          "height": 532
        }
      },
      "execution_count": 9,
      "outputs": [
        {
          "output_type": "display_data",
          "data": {
            "text/plain": [
              "<Figure size 1000x600 with 1 Axes>"
            ],
            "image/png": "[encoded data removed]"
          },
          "metadata": {}
        }
      ]
    },
    {
      "cell_type": "code",
      "source": [
        "# ----------------- Save CatBoost model -----------------\n",
        "model.save_model(\"catboost_model.cbm\")  # CatBoost native format\n",
        "\n",
        "# (Optional) also save feature names for reference\n",
        "import joblib\n",
        "joblib.dump(X_train.columns.tolist(), \"catboost_features.pkl\")\n",
        "\n",
        "print(\"✅ Model and features saved\")\n"
      ],
      "metadata": {
        "id": "i_wdwr18SD0F",
        "outputId": "27834fd0-77b5-4419-b4d9-10ca68faf0a2",
        "colab": {
          "base_uri": "https://localhost:8080/"
        }
      },
      "execution_count": 11,
      "outputs": [
        {
          "output_type": "stream",
          "name": "stdout",
          "text": [
            "✅ Model and features saved\n"
          ]
        }
      ]
    },
    {
      "cell_type": "code",
      "source": [
        "from catboost import CatBoostRegressor\n",
        "import joblib\n",
        "import pandas as pd\n",
        "\n",
        "# Load model\n",
        "cat_model = CatBoostRegressor()\n",
        "cat_model.load_model(\"catboost_model.cbm\")\n",
        "\n",
        "# Load features (for alignment)\n",
        "cat_features = joblib.load(\"catboost_features.pkl\")\n",
        "\n",
        "print(\"✅ Model and features loaded\")\n"
      ],
      "metadata": {
        "id": "rHo0nTadTR-2",
        "outputId": "1809d1bf-0eac-4994-fd7b-6aced94e8d2a",
        "colab": {
          "base_uri": "https://localhost:8080/"
        }
      },
      "execution_count": 12,
      "outputs": [
        {
          "output_type": "stream",
          "name": "stdout",
          "text": [
            "✅ Model and features loaded\n"
          ]
        }
      ]
    },
    {
      "cell_type": "code",
      "source": [
        "# Suppose you have a new dataset\n",
        "new_df = pd.read_csv(\"/content/final_nova_dataset_65_35.csv\")\n",
        "\n",
        "# Drop leakage cols if present\n",
        "leakage_cols = ['worker_id', 'nova_score', 'nova_prev_score', 'week']\n",
        "new_df = new_df.drop(columns=[c for c in leakage_cols if c in new_df.columns])\n",
        "\n",
        "# Recreate group column for normalization\n",
        "sensitive_features = ['gender', 'region']\n",
        "numeric_features = ['age','earnings','jobs_completed','repeat_client_share','avg_job_value',\n",
        "                    'hours_worked','dispute_count','tips_share','customer_rating',\n",
        "                    'cancellation_rate','peak_hour_jobs_share','transaction_count','gap_days']\n",
        "\n",
        "new_df['group'] = new_df[sensitive_features].agg('_'.join, axis=1)\n",
        "\n",
        "# Apply same normalization\n",
        "for feature in numeric_features:\n",
        "    new_df[feature + '_norm'] = new_df.groupby('group')[feature].transform(\n",
        "        lambda x: (x - x.mean()) / (x.std() + 1e-8)\n",
        "    )\n",
        "\n",
        "# Final feature set (must match training features)\n",
        "X_new = new_df[cat_features]\n"
      ],
      "metadata": {
        "id": "YtS39XqGS1aC"
      },
      "execution_count": 13,
      "outputs": []
    },
    {
      "cell_type": "code",
      "source": [
        "# Run predictions\n",
        "predictions = cat_model.predict(X_new)\n",
        "\n",
        "# Attach predictions back to dataframe\n",
        "new_df[\"catboost_predicted_score\"] = predictions\n",
        "\n",
        "print(new_df[[\"catboost_predicted_score\"]].head())\n"
      ],
      "metadata": {
        "id": "Iwy6cAbITHZz",
        "outputId": "ff9b54ca-a95c-4c1b-cee8-c23fdb1b19a1",
        "colab": {
          "base_uri": "https://localhost:8080/"
        }
      },
      "execution_count": 14,
      "outputs": [
        {
          "output_type": "stream",
          "name": "stdout",
          "text": [
            "   catboost_predicted_score\n",
            "0                 77.283984\n",
            "1                 69.797684\n",
            "2                 68.131501\n",
            "3                 71.487918\n",
            "4                 68.897535\n"
          ]
        }
      ]
    },
    {
      "cell_type": "code",
      "source": [
        "raw_df = pd.read_csv(\"/content/final_nova_dataset_65_35.csv\")  # original data with all columns\n",
        "raw_df[\"catboost_predicted_score\"] = predictions\n",
        "raw_df.to_csv(\"catboost_predicted_score.csv\", index=False)\n"
      ],
      "metadata": {
        "id": "4YNJobQhTrA-"
      },
      "execution_count": 17,
      "outputs": []
    },
    {
      "cell_type": "code",
      "source": [
        "pred_df = pd.read_csv(\"/content/catboost_predicted_score.csv\")\n",
        "print(pred_df.head())"
      ],
      "metadata": {
        "id": "GanWDAdqT4cw",
        "outputId": "475e487f-4565-4a75-b835-1d2f7b2223e5",
        "colab": {
          "base_uri": "https://localhost:8080/"
        }
      },
      "execution_count": 18,
      "outputs": [
        {
          "output_type": "stream",
          "name": "stdout",
          "text": [
            "   worker_id  week  age gender region partner_tier worker_type  earnings  \\\n",
            "0          0     4   33      M  North       silver    merchant   1416.67   \n",
            "1          0     5   33      M  North       silver    merchant   1486.81   \n",
            "2          0     6   33      M  North       silver    merchant   1608.10   \n",
            "3          0     7   33      M  North       silver    merchant   1498.12   \n",
            "4          0     8   33      M  North       silver    merchant   1779.19   \n",
            "\n",
            "   jobs_completed  repeat_client_share  ...  dispute_count  tips_share  \\\n",
            "0               7                 0.93  ...              0        0.26   \n",
            "1              12                 0.39  ...              0        0.19   \n",
            "2              14                 0.22  ...              0        0.14   \n",
            "3               8                 0.18  ...              0        0.16   \n",
            "4              11                 0.37  ...              0        0.35   \n",
            "\n",
            "   customer_rating  cancellation_rate  peak_hour_jobs_share  \\\n",
            "0         4.916885           0.070632                  0.68   \n",
            "1         4.529594           0.082662                  0.38   \n",
            "2         2.103355           0.045558                  0.34   \n",
            "3         3.917451           0.027664                  0.52   \n",
            "4         4.457018           0.117046                  0.34   \n",
            "\n",
            "   transaction_count  gap_days  nova_prev_score  nova_score  \\\n",
            "0                  4         1        60.000000   66.472285   \n",
            "1                 10         1        66.472285   67.557437   \n",
            "2                 18         1        67.557437   65.092922   \n",
            "3                  7         4        65.092922   63.787549   \n",
            "4                 17         2        63.787549   66.902592   \n",
            "\n",
            "   catboost_predicted_score  \n",
            "0                 77.283984  \n",
            "1                 69.797684  \n",
            "2                 68.131501  \n",
            "3                 71.487918  \n",
            "4                 68.897535  \n",
            "\n",
            "[5 rows x 22 columns]\n"
          ]
        }
      ]
    }
  ],
  "metadata": {
    "colab": {
      "provenance": []
    },
    "kernelspec": {
      "display_name": "Python 3",
      "name": "python3"
    },
    "language_info": {
      "name": "python"
    }
  },
  "nbformat": 4,
  "nbformat_minor": 0
}